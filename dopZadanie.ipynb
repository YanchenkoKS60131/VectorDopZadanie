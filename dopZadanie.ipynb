{
 "cells": [
  {
   "cell_type": "code",
   "execution_count": 5,
   "id": "e8dd263b-44f4-4e36-8140-2b7abad38421",
   "metadata": {
    "tags": []
   },
   "outputs": [
    {
     "name": "stdout",
     "output_type": "stream",
     "text": [
      "Defaulting to user installation because normal site-packages is not writeable\n",
      "Requirement already satisfied: spacy in /home/datadisk/jupyter-yanchenko_ks/.local/lib/python3.9/site-packages (3.8.2)\n",
      "Requirement already satisfied: spacy-legacy<3.1.0,>=3.0.11 in /home/datadisk/jupyter-yanchenko_ks/.local/lib/python3.9/site-packages (from spacy) (3.0.12)\n",
      "Requirement already satisfied: spacy-loggers<2.0.0,>=1.0.0 in /home/datadisk/jupyter-yanchenko_ks/.local/lib/python3.9/site-packages (from spacy) (1.0.5)\n",
      "Requirement already satisfied: murmurhash<1.1.0,>=0.28.0 in /home/datadisk/jupyter-yanchenko_ks/.local/lib/python3.9/site-packages (from spacy) (1.0.11)\n",
      "Requirement already satisfied: cymem<2.1.0,>=2.0.2 in /home/datadisk/jupyter-yanchenko_ks/.local/lib/python3.9/site-packages (from spacy) (2.0.10)\n",
      "Requirement already satisfied: preshed<3.1.0,>=3.0.2 in /home/datadisk/jupyter-yanchenko_ks/.local/lib/python3.9/site-packages (from spacy) (3.0.9)\n",
      "Requirement already satisfied: thinc<8.4.0,>=8.3.0 in /home/datadisk/jupyter-yanchenko_ks/.local/lib/python3.9/site-packages (from spacy) (8.3.2)\n",
      "Requirement already satisfied: wasabi<1.2.0,>=0.9.1 in /home/datadisk/jupyter-yanchenko_ks/.local/lib/python3.9/site-packages (from spacy) (0.10.1)\n",
      "Requirement already satisfied: srsly<3.0.0,>=2.4.3 in /home/datadisk/jupyter-yanchenko_ks/.local/lib/python3.9/site-packages (from spacy) (2.5.0)\n",
      "Requirement already satisfied: catalogue<2.1.0,>=2.0.6 in /home/datadisk/jupyter-yanchenko_ks/.local/lib/python3.9/site-packages (from spacy) (2.0.10)\n",
      "Requirement already satisfied: weasel<0.5.0,>=0.1.0 in /home/datadisk/jupyter-yanchenko_ks/.local/lib/python3.9/site-packages (from spacy) (0.4.1)\n",
      "Requirement already satisfied: typer<1.0.0,>=0.3.0 in /home/datadisk/jupyter-yanchenko_ks/.local/lib/python3.9/site-packages (from spacy) (0.4.2)\n",
      "Requirement already satisfied: tqdm<5.0.0,>=4.38.0 in /home/datadisk/jupyter-yanchenko_ks/.local/lib/python3.9/site-packages (from spacy) (4.67.1)\n",
      "Requirement already satisfied: requests<3.0.0,>=2.13.0 in /opt/tljh/user/lib/python3.9/site-packages (from spacy) (2.28.1)\n",
      "Requirement already satisfied: pydantic!=1.8,!=1.8.1,<3.0.0,>=1.7.4 in /home/datadisk/jupyter-yanchenko_ks/.local/lib/python3.9/site-packages (from spacy) (1.8.2)\n",
      "Requirement already satisfied: jinja2 in /home/datadisk/jupyter-yanchenko_ks/.local/lib/python3.9/site-packages (from spacy) (3.1.4)\n",
      "Requirement already satisfied: setuptools in /opt/tljh/user/lib/python3.9/site-packages (from spacy) (58.2.0)\n",
      "Requirement already satisfied: packaging>=20.0 in /opt/tljh/user/lib/python3.9/site-packages (from spacy) (22.0)\n",
      "Requirement already satisfied: langcodes<4.0.0,>=3.2.0 in /home/datadisk/jupyter-yanchenko_ks/.local/lib/python3.9/site-packages (from spacy) (3.5.0)\n",
      "Requirement already satisfied: numpy>=1.19.0 in /home/datadisk/jupyter-yanchenko_ks/.local/lib/python3.9/site-packages (from spacy) (1.19.5)\n",
      "Requirement already satisfied: language-data>=1.2 in /home/datadisk/jupyter-yanchenko_ks/.local/lib/python3.9/site-packages (from langcodes<4.0.0,>=3.2.0->spacy) (1.3.0)\n",
      "Requirement already satisfied: typing-extensions>=3.7.4.3 in /opt/tljh/user/lib/python3.9/site-packages (from pydantic!=1.8,!=1.8.1,<3.0.0,>=1.7.4->spacy) (4.5.0)\n",
      "Requirement already satisfied: charset-normalizer<3,>=2 in /opt/tljh/user/lib/python3.9/site-packages (from requests<3.0.0,>=2.13.0->spacy) (2.0.0)\n",
      "Requirement already satisfied: idna<4,>=2.5 in /opt/tljh/user/lib/python3.9/site-packages (from requests<3.0.0,>=2.13.0->spacy) (3.1)\n",
      "Requirement already satisfied: urllib3<1.27,>=1.21.1 in /opt/tljh/user/lib/python3.9/site-packages (from requests<3.0.0,>=2.13.0->spacy) (1.26.7)\n",
      "Requirement already satisfied: certifi>=2017.4.17 in /opt/tljh/user/lib/python3.9/site-packages (from requests<3.0.0,>=2.13.0->spacy) (2023.5.7)\n",
      "Requirement already satisfied: blis<1.1.0,>=1.0.0 in /home/datadisk/jupyter-yanchenko_ks/.local/lib/python3.9/site-packages (from thinc<8.4.0,>=8.3.0->spacy) (1.0.1)\n",
      "Requirement already satisfied: confection<1.0.0,>=0.0.1 in /home/datadisk/jupyter-yanchenko_ks/.local/lib/python3.9/site-packages (from thinc<8.4.0,>=8.3.0->spacy) (0.1.5)\n",
      "Collecting numpy>=1.19.0 (from spacy)\n",
      "  Using cached numpy-2.0.2-cp39-cp39-manylinux_2_17_x86_64.manylinux2014_x86_64.whl.metadata (60 kB)\n",
      "Requirement already satisfied: click<9.0.0,>=7.1.1 in /home/datadisk/jupyter-yanchenko_ks/.local/lib/python3.9/site-packages (from typer<1.0.0,>=0.3.0->spacy) (8.1.7)\n",
      "Requirement already satisfied: cloudpathlib<1.0.0,>=0.7.0 in /home/datadisk/jupyter-yanchenko_ks/.local/lib/python3.9/site-packages (from weasel<0.5.0,>=0.1.0->spacy) (0.20.0)\n",
      "Requirement already satisfied: smart-open<8.0.0,>=5.2.1 in /home/datadisk/jupyter-yanchenko_ks/.local/lib/python3.9/site-packages (from weasel<0.5.0,>=0.1.0->spacy) (7.1.0)\n",
      "Requirement already satisfied: MarkupSafe>=2.0 in /opt/tljh/user/lib/python3.9/site-packages (from jinja2->spacy) (2.1.3)\n",
      "Requirement already satisfied: marisa-trie>=1.1.0 in /home/datadisk/jupyter-yanchenko_ks/.local/lib/python3.9/site-packages (from language-data>=1.2->langcodes<4.0.0,>=3.2.0->spacy) (1.2.1)\n",
      "Requirement already satisfied: wrapt in /opt/tljh/user/lib/python3.9/site-packages (from smart-open<8.0.0,>=5.2.1->weasel<0.5.0,>=0.1.0->spacy) (1.15.0)\n",
      "Using cached numpy-2.0.2-cp39-cp39-manylinux_2_17_x86_64.manylinux2014_x86_64.whl (19.5 MB)\n",
      "Installing collected packages: numpy\n",
      "  Attempting uninstall: numpy\n",
      "    Found existing installation: numpy 1.19.5\n",
      "    Uninstalling numpy-1.19.5:\n",
      "      Successfully uninstalled numpy-1.19.5\n",
      "\u001b[33m  WARNING: The scripts f2py and numpy-config are installed in '/home/datadisk/jupyter-yanchenko_ks/.local/bin' which is not on PATH.\n",
      "  Consider adding this directory to PATH or, if you prefer to suppress this warning, use --no-warn-script-location.\u001b[0m\u001b[33m\n",
      "\u001b[0m\u001b[31mERROR: pip's dependency resolver does not currently take into account all the packages that are installed. This behaviour is the source of the following dependency conflicts.\n",
      "scipy 1.10.1 requires numpy<1.27.0,>=1.19.5, but you have numpy 2.0.2 which is incompatible.\n",
      "mlflow 2.1.1 requires numpy<2, but you have numpy 2.0.2 which is incompatible.\n",
      "numba 0.57.1 requires numpy<1.25,>=1.21, but you have numpy 2.0.2 which is incompatible.\u001b[0m\u001b[31m\n",
      "\u001b[0mSuccessfully installed numpy-2.0.2\n"
     ]
    },
    {
     "name": "stderr",
     "output_type": "stream",
     "text": [
      "/opt/tljh/user/lib/python3.9/site-packages/torch/cuda/__init__.py:497: UserWarning: Can't initialize NVML\n",
      "  warnings.warn(\"Can't initialize NVML\")\n"
     ]
    },
    {
     "name": "stdout",
     "output_type": "stream",
     "text": [
      "/opt/tljh/user/lib/python3.9/site-packages/torch/cuda/__init__.py:497: UserWarning: Can't initialize NVML\n",
      "  warnings.warn(\"Can't initialize NVML\")\n",
      "Defaulting to user installation because normal site-packages is not writeable\n",
      "Collecting ru-core-news-sm==3.8.0\n",
      "  Downloading https://github.com/explosion/spacy-models/releases/download/ru_core_news_sm-3.8.0/ru_core_news_sm-3.8.0-py3-none-any.whl (15.3 MB)\n",
      "\u001b[2K     \u001b[90m━━━━━━━━━━━━━━━━━━━━━━━━━━━━━━━━━━━━━━━━\u001b[0m \u001b[32m15.3/15.3 MB\u001b[0m \u001b[31m40.4 MB/s\u001b[0m eta \u001b[36m0:00:00\u001b[0ma \u001b[36m0:00:01\u001b[0m\n",
      "\u001b[?25hRequirement already satisfied: pymorphy3>=1.0.0 in /home/datadisk/jupyter-yanchenko_ks/.local/lib/python3.9/site-packages (from ru-core-news-sm==3.8.0) (2.0.2)\n",
      "Requirement already satisfied: dawg-python>=0.7.1 in /home/datadisk/jupyter-yanchenko_ks/.local/lib/python3.9/site-packages (from pymorphy3>=1.0.0->ru-core-news-sm==3.8.0) (0.7.2)\n",
      "Requirement already satisfied: pymorphy3-dicts-ru in /home/datadisk/jupyter-yanchenko_ks/.local/lib/python3.9/site-packages (from pymorphy3>=1.0.0->ru-core-news-sm==3.8.0) (2.4.417150.4580142)\n",
      "\u001b[38;5;2m✔ Download and installation successful\u001b[0m\n",
      "You can now load the package via spacy.load('ru_core_news_sm')\n"
     ]
    }
   ],
   "source": [
    "!pip install spacy\n",
    "import spacy\n",
    "!python -m spacy download ru_core_news_sm\n",
    "nlp = spacy.load(\"ru_core_news_sm\")"
   ]
  },
  {
   "cell_type": "code",
   "execution_count": 15,
   "id": "6ffdd600-4375-47f5-b8fe-8ddbc7276045",
   "metadata": {
    "tags": []
   },
   "outputs": [],
   "source": [
    "\n",
    "import numpy "
   ]
  },
  {
   "cell_type": "code",
   "execution_count": 18,
   "id": "0efc4885-09d8-4864-ae6a-1024baefef5b",
   "metadata": {
    "tags": []
   },
   "outputs": [
    {
     "name": "stdout",
     "output_type": "stream",
     "text": [
      "[-0.219945    0.13090797 -0.35847965 -0.4684573  -0.19337173 -0.04529669\n",
      "  0.57761216  0.27358243 -0.9870435  -0.01189484 -0.5347372  -0.17778209\n",
      "  0.06885465  0.85431033 -0.32720417  0.35818434  0.29604882 -0.07288741\n",
      " -0.35303494  0.17521355  0.14061621  0.21040785 -0.46228808 -0.1721621\n",
      " -0.21507497 -0.01048305  1.1172346  -0.37556595  0.5520648   0.83028495\n",
      " -0.94900614  0.39398274 -0.02283851 -0.05996039 -0.16694681 -0.16445777\n",
      " -1.2409973  -0.24314179 -0.24552977  0.4138714   0.45322558  0.68372774\n",
      " -0.18865655  0.22638789  1.004674    0.3296293  -0.09017473  0.1092345\n",
      " -1.1486653  -0.6081829  -0.08308476 -0.50346833 -0.10829408 -0.2536537\n",
      "  1.0658503   0.34556383 -0.0941596  -0.65488136 -0.19086336  0.4099626\n",
      " -0.31184056 -0.2144502  -0.19660121 -0.58267665  0.5769937  -0.14689204\n",
      " -0.01834592  0.01913548  0.86114156 -0.09124625  0.21243204  0.14864805\n",
      " -0.06500527 -0.05165552 -0.31383854  1.1584947   0.12501585 -0.13555488\n",
      "  0.6118482   0.00242651 -0.48930535 -0.34231487 -0.30541414  0.9821361\n",
      "  0.00778282 -0.08039497 -0.21908729  0.3031938  -0.4036639   0.32223716\n",
      "  0.50467885  0.1224337  -0.26556286  0.22908904  0.9645698   0.15149285]\n"
     ]
    }
   ],
   "source": [
    "text = '''Информация — это знания и сведения об окружающем мире, которые являются объектом хранения, преобразования, передачи и использования.'''\n",
    "TextVector = nlp(text).vector\n",
    "TextNlp = nlp(text)\n",
    "print(textVector)"
   ]
  },
  {
   "cell_type": "code",
   "execution_count": 7,
   "id": "03461160-da68-4e9e-9126-8a392f0e3bd0",
   "metadata": {
    "tags": []
   },
   "outputs": [
    {
     "name": "stdout",
     "output_type": "stream",
     "text": [
      "['Информация', '—', 'это', 'знания', 'и', 'сведения', 'об', 'окружающем', 'мире,', 'которые', 'являются', 'объектом', 'хранения,', 'преобразования,', 'передачи', 'и', 'использования.']\n"
     ]
    }
   ],
   "source": [
    "TextWords = text.split()\n",
    "print(TextWords)"
   ]
  },
  {
   "cell_type": "code",
   "execution_count": 8,
   "id": "8e524c5a-d2ad-418f-9ffd-656c0e6496f0",
   "metadata": {
    "tags": []
   },
   "outputs": [],
   "source": [
    "Distances = []\n",
    "import spacy"
   ]
  },
  {
   "cell_type": "code",
   "execution_count": null,
   "id": "9dd11841-b594-44c5-a611-b9ed5bcbfaf6",
   "metadata": {},
   "outputs": [],
   "source": [
    "!pip install numpy==1.19.5\n",
    "!pip install scipy"
   ]
  },
  {
   "cell_type": "code",
   "execution_count": 15,
   "id": "d061772d-6b66-4049-90a6-7fd47b5211ac",
   "metadata": {
    "tags": []
   },
   "outputs": [],
   "source": [
    "import numpy as np\n",
    "from random import shuffle\n",
    "from scipy.spatial.distance import cosine\n",
    "\n",
    "for i in range(7):\n",
    "    shuffle(TextWords)\n",
    "    NewText = ' '.join(TextWords)\n",
    "    NewTextVector = nlp(NewText).vector\n",
    "    NewDistance = cosine(TextVector, NewTextVector) \n",
    "    Distances.append((NewText, NewDistance))"
   ]
  },
  {
   "cell_type": "code",
   "execution_count": 19,
   "id": "7ad386fc-c071-4be4-9b93-f86cf487cbd6",
   "metadata": {
    "tags": []
   },
   "outputs": [
    {
     "name": "stdout",
     "output_type": "stream",
     "text": [
      "Исходное предложение: Информация — это знания и сведения об окружающем мире, которые являются объектом хранения, преобразования, передачи и использования.\n",
      "\n",
      "Новое предложение: преобразования, и — это сведения использования. которые Информация мире, и об являются окружающем объектом знания передачи хранения, \n",
      "Косинусное расстояние: 0.1527\n",
      "similarity: 0.8473\n",
      "Косинусное расстояние similarity: 0.1527\n",
      "\n",
      "\n",
      "Новое предложение: и передачи знания об преобразования, — которые это Информация хранения, и сведения объектом мире, являются окружающем использования. \n",
      "Косинусное расстояние: 0.1139\n",
      "similarity: 0.8861\n",
      "Косинусное расстояние similarity: 0.1139\n",
      "\n",
      "\n",
      "Новое предложение: об использования. мире, которые это окружающем преобразования, хранения, объектом сведения знания Информация и передачи являются и — \n",
      "Косинусное расстояние: 0.0696\n",
      "similarity: 0.9304\n",
      "Косинусное расстояние similarity: 0.0696\n",
      "\n",
      "\n",
      "Новое предложение: использования. — объектом которые передачи Информация это хранения, преобразования, и сведения знания об окружающем мире, и являются \n",
      "Косинусное расстояние: 0.1021\n",
      "similarity: 0.8979\n",
      "Косинусное расстояние similarity: 0.1021\n",
      "\n",
      "\n",
      "Новое предложение: сведения хранения, которые Информация знания мире, окружающем преобразования, и об и использования. — являются передачи это объектом \n",
      "Косинусное расстояние: 0.1454\n",
      "similarity: 0.8546\n",
      "Косинусное расстояние similarity: 0.1454\n",
      "\n",
      "\n",
      "Новое предложение: хранения, об сведения и это преобразования, передачи — и знания окружающем мире, Информация использования. объектом которые являются \n",
      "Косинусное расстояние: 0.0648\n",
      "similarity: 0.9352\n",
      "Косинусное расстояние similarity: 0.0648\n",
      "\n",
      "\n",
      "Новое предложение: знания — передачи которые об объектом использования. являются преобразования, хранения, и Информация это и мире, окружающем сведения \n",
      "Косинусное расстояние: 0.0734\n",
      "similarity: 0.9266\n",
      "Косинусное расстояние similarity: 0.0734\n",
      "\n"
     ]
    },
    {
     "name": "stderr",
     "output_type": "stream",
     "text": [
      "/tmp/ipykernel_119930/2445133765.py:5: UserWarning: [W007] The model you're using has no word vectors loaded, so the result of the Doc.similarity method will be based on the tagger, parser and NER, which may not give useful similarity judgements. This may happen if you're using one of the small models, e.g. `en_core_web_sm`, which don't ship with word vectors and only use context-sensitive tensors. You can always add your own word vectors, or use one of the larger models instead if available.\n",
      "  Similar = TextNlp.similarity(NewTextNlp)\n"
     ]
    }
   ],
   "source": [
    "print(\"Исходное предложение:\", text)\n",
    "for NewText, NewDistance in Distances:\n",
    "    print(f\"\\nНовое предложение: {NewText} \\nКосинусное расстояние: {NewDistance:.4f}\")\n",
    "    NewTextNlp = nlp(NewText)\n",
    "    Similar = TextNlp.similarity(NewTextNlp)\n",
    "    print(f\"similarity: {Similar:.4f}\")\n",
    "    SimilarDistance = 1 - Similar\n",
    "    print(f\"Косинусное расстояние similarity: {SimilarDistance:.4f}\\n\")"
   ]
  },
  {
   "cell_type": "code",
   "execution_count": 20,
   "id": "282f3287-9694-4d2d-a3d8-92ddeed86f27",
   "metadata": {
    "tags": []
   },
   "outputs": [
    {
     "name": "stdout",
     "output_type": "stream",
     "text": [
      "Defaulting to user installation because normal site-packages is not writeable\n",
      "Collecting https://github.com/explosion/spacy-models/releases/download/ru_core_news_md-3.8.0/ru_core_news_md-3.8.0.tar.gz\n",
      "  Downloading https://github.com/explosion/spacy-models/releases/download/ru_core_news_md-3.8.0/ru_core_news_md-3.8.0.tar.gz (41.6 MB)\n",
      "\u001b[2K     \u001b[90m━━━━━━━━━━━━━━━━━━━━━━━━━━━━━━━━━━━━━━━━\u001b[0m \u001b[32m41.6/41.6 MB\u001b[0m \u001b[31m27.1 MB/s\u001b[0m eta \u001b[36m0:00:00\u001b[0m00:01\u001b[0m00:01\u001b[0m\n",
      "\u001b[?25h  Preparing metadata (setup.py) ... \u001b[?25ldone\n",
      "\u001b[?25hRequirement already satisfied: pymorphy3>=1.0.0 in /home/datadisk/jupyter-yanchenko_ks/.local/lib/python3.9/site-packages (from ru-core-news-md==3.8.0) (2.0.2)\n",
      "Requirement already satisfied: dawg-python>=0.7.1 in /home/datadisk/jupyter-yanchenko_ks/.local/lib/python3.9/site-packages (from pymorphy3>=1.0.0->ru-core-news-md==3.8.0) (0.7.2)\n",
      "Requirement already satisfied: pymorphy3-dicts-ru in /home/datadisk/jupyter-yanchenko_ks/.local/lib/python3.9/site-packages (from pymorphy3>=1.0.0->ru-core-news-md==3.8.0) (2.4.417150.4580142)\n",
      "Defaulting to user installation because normal site-packages is not writeable\n",
      "Collecting https://github.com/explosion/spacy-models/releases/download/ru_core_news_lg-3.8.0/ru_core_news_lg-3.8.0.tar.gz\n",
      "  Downloading https://github.com/explosion/spacy-models/releases/download/ru_core_news_lg-3.8.0/ru_core_news_lg-3.8.0.tar.gz (513.0 MB)\n",
      "\u001b[2K     \u001b[90m━━━━━━━━━━━━━━━━━━━━━━━━━━━━━━━━━━━━━━\u001b[0m \u001b[32m513.0/513.0 MB\u001b[0m \u001b[31m34.3 MB/s\u001b[0m eta \u001b[36m0:00:00\u001b[0m00:01\u001b[0m00:01\u001b[0m\n",
      "\u001b[?25h  Preparing metadata (setup.py) ... \u001b[?25ldone\n",
      "\u001b[?25hRequirement already satisfied: pymorphy3>=1.0.0 in /home/datadisk/jupyter-yanchenko_ks/.local/lib/python3.9/site-packages (from ru-core-news-lg==3.8.0) (2.0.2)\n",
      "Requirement already satisfied: dawg-python>=0.7.1 in /home/datadisk/jupyter-yanchenko_ks/.local/lib/python3.9/site-packages (from pymorphy3>=1.0.0->ru-core-news-lg==3.8.0) (0.7.2)\n",
      "Requirement already satisfied: pymorphy3-dicts-ru in /home/datadisk/jupyter-yanchenko_ks/.local/lib/python3.9/site-packages (from pymorphy3>=1.0.0->ru-core-news-lg==3.8.0) (2.4.417150.4580142)\n",
      "Building wheels for collected packages: ru-core-news-lg\n",
      "  Building wheel for ru-core-news-lg (setup.py) ... \u001b[?25ldone\n",
      "\u001b[?25h  Created wheel for ru-core-news-lg: filename=ru_core_news_lg-3.8.0-py3-none-any.whl size=513369877 sha256=c79f8d284d6250ebf2d02951896fd8dc072c29d79877aadc3c765b3af4a7598c\n",
      "  Stored in directory: /home/datadisk/jupyter-yanchenko_ks/.cache/pip/wheels/3a/b0/9c/a77a4c2b7233f508d07ed95f61de110ca7194bc78315900aa0\n",
      "Successfully built ru-core-news-lg\n",
      "Installing collected packages: ru-core-news-lg\n",
      "Successfully installed ru-core-news-lg-3.8.0\n"
     ]
    }
   ],
   "source": [
    " !pip install https://github.com/explosion/spacy-models/releases/download/ru_core_news_md-3.8.0/ru_core_news_md-3.8.0.tar.gz\n",
    "!pip install https://github.com/explosion/spacy-models/releases/download/ru_core_news_lg-3.8.0/ru_core_news_lg-3.8.0.tar.gz\n",
    "SrModel = spacy.load(\"ru_core_news_md\")\n",
    "BigModel = spacy.load(\"ru_core_news_lg\")"
   ]
  },
  {
   "cell_type": "code",
   "execution_count": 22,
   "id": "1756773d-bdc1-42ec-86af-cfd54b606a9f",
   "metadata": {
    "tags": []
   },
   "outputs": [],
   "source": [
    "SrVector = SrModel(text).vector\n",
    "BigVector = BigModel(text).vector\n",
    "ModelsDistance = cosine(SrVector, BigVector)"
   ]
  },
  {
   "cell_type": "code",
   "execution_count": 24,
   "id": "0a558539-a897-430c-b5fa-1ce248c51aad",
   "metadata": {
    "tags": []
   },
   "outputs": [
    {
     "name": "stdout",
     "output_type": "stream",
     "text": [
      "Исходное предложение: Информация — это знания и сведения об окружающем мире, которые являются объектом хранения, преобразования, передачи и использования.\n",
      "Косинусное расстояние между средней и большой моделью: 0.3211\n"
     ]
    }
   ],
   "source": [
    "print(\"Исходное предложение:\", text)\n",
    "print(f\"Косинусное расстояние между средней и большой моделью: {ModelsDistance:.4f}\")"
   ]
  },
  {
   "cell_type": "code",
   "execution_count": 27,
   "id": "12869c38-a266-4304-a6ea-c900036b221d",
   "metadata": {
    "tags": []
   },
   "outputs": [
    {
     "name": "stdout",
     "output_type": "stream",
     "text": [
      "['Информация', '—', 'это', 'знания', 'и', 'сведения', 'об', 'окружающем', 'мире,', 'которые', 'являются', 'объектом', 'хранения,', 'преобразования,', 'передачи', 'и', 'использования.']\n",
      "Исходное предложение: Информация — это знания и сведения об окружающем мире, которые являются объектом хранения, преобразования, передачи и использования.\n",
      "\n",
      "Новое предложение: и — объектом об окружающем использования. которые преобразования, мире, Информация знания передачи это являются и сведения хранения, \n",
      "Косинусное расстояние: 0.0000\n",
      "similarity: 1.0000\n",
      "Косинусное расстояние similarity: 0.0000\n",
      "\n",
      "Новое предложение: являются передачи хранения, объектом Информация об мире, это знания преобразования, и использования. и — окружающем которые сведения \n",
      "Косинусное расстояние: 0.0000\n",
      "similarity: 1.0000\n",
      "Косинусное расстояние similarity: 0.0000\n",
      "\n",
      "Новое предложение: знания это окружающем сведения об хранения, преобразования, мире, и использования. Информация — объектом и являются которые передачи \n",
      "Косинусное расстояние: 0.0000\n",
      "similarity: 1.0000\n",
      "Косинусное расстояние similarity: 0.0000\n",
      "\n",
      "Новое предложение: окружающем и объектом об — использования. передачи которые сведения и являются хранения, Информация знания это преобразования, мире, \n",
      "Косинусное расстояние: 0.0000\n",
      "similarity: 1.0000\n",
      "Косинусное расстояние similarity: 0.0000\n",
      "\n",
      "Новое предложение: сведения которые об являются объектом Информация использования. это передачи мире, знания преобразования, и хранения, и — окружающем \n",
      "Косинусное расстояние: 0.0000\n",
      "similarity: 1.0000\n",
      "Косинусное расстояние similarity: 0.0000\n",
      "\n",
      "Новое предложение: являются которые — передачи окружающем хранения, Информация и это знания об и мире, преобразования, использования. сведения объектом \n",
      "Косинусное расстояние: 0.0000\n",
      "similarity: 1.0000\n",
      "Косинусное расстояние similarity: 0.0000\n",
      "\n",
      "Новое предложение: и — которые сведения передачи Информация преобразования, это использования. окружающем являются об мире, объектом знания и хранения, \n",
      "Косинусное расстояние: 0.0000\n",
      "similarity: 1.0000\n",
      "Косинусное расстояние similarity: 0.0000\n"
     ]
    }
   ],
   "source": [
    "TextWord = text.split()\n",
    "print(TextWord)\n",
    "Distances = []\n",
    "\n",
    "from random import shuffle\n",
    "from scipy.spatial.distance import cosine\n",
    "\n",
    "for i in range(7):\n",
    "    shuffle(TextWord)\n",
    "    NewText = ' '.join(TextWord)\n",
    "    NewTextVector = BigModel(NewText).vector   \n",
    "    NewDistance = cosine(BigVector, NewTextVector) \n",
    "    Distances.append((NewText, NewDistance))\n",
    "    \n",
    "    \n",
    "print(\"Исходное предложение:\", text)\n",
    "for NewText, NewDistance in Distances:\n",
    "    print(f\"\\nНовое предложение: {NewText} \\nКосинусное расстояние: {NewDistance:.4f}\")\n",
    "    TextBig = BigModel(text)\n",
    "    NewTextBig = BigModel(NewText)\n",
    "    Similar = TextBig.similarity(NewTextBig)\n",
    "    print(f\"similarity: {Similar:.4f}\")\n",
    "    SimilarDistance = 1 - Similar\n",
    "    print(f\"Косинусное расстояние similarity: {SimilarDistance:.4f}\")"
   ]
  }
 ],
 "metadata": {
  "kernelspec": {
   "display_name": "Python 3 (ipykernel)",
   "language": "python",
   "name": "python3"
  },
  "language_info": {
   "codemirror_mode": {
    "name": "ipython",
    "version": 3
   },
   "file_extension": ".py",
   "mimetype": "text/x-python",
   "name": "python",
   "nbconvert_exporter": "python",
   "pygments_lexer": "ipython3",
   "version": "3.9.7"
  }
 },
 "nbformat": 4,
 "nbformat_minor": 5
}
